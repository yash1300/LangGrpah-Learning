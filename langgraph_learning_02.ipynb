{
 "cells": [
  {
   "cell_type": "markdown",
   "id": "ae61e746",
   "metadata": {},
   "source": [
    "##  Conditional node or graph"
   ]
  },
  {
   "cell_type": "code",
   "execution_count": 1,
   "id": "3b468d1e",
   "metadata": {},
   "outputs": [],
   "source": [
    "from typing import TypedDict\n",
    "\n",
    "class PortfolioState(TypedDict):\n",
    "    \n",
    "    amount_usd: float   \n",
    "    total_usd: float   \n",
    "    target_currency: str \n",
    "    total: float\n",
    "   "
   ]
  },
  {
   "cell_type": "code",
   "execution_count": 3,
   "id": "f09698fe",
   "metadata": {},
   "outputs": [],
   "source": [
    "def calc_total(state : PortfolioState) -> PortfolioState:\n",
    "    state['total_usd'] = state['amount_usd'] * 1.10  # Assuming a 10% interest rate\n",
    "    return state\n",
    "\n",
    "def convert_to_inr(state: PortfolioState) -> PortfolioState:\n",
    "    state['total'] = state['total_usd'] * 86.0  # Assuming 1 USD = 86 INR\n",
    "    return state\n",
    "\n",
    "def convert_to_eur(state: PortfolioState) -> PortfolioState:\n",
    "    state['total'] = state['total_usd'] * 0.9  \n",
    "    return state\n",
    "\n",
    "def choose_conversion(state: PortfolioState) -> str:\n",
    "    return state['target_currency']"
   ]
  },
  {
   "cell_type": "code",
   "execution_count": 4,
   "id": "3503533e",
   "metadata": {},
   "outputs": [],
   "source": [
    "from langgraph.graph import StateGraph, START, END\n",
    "\n",
    "graph = StateGraph(PortfolioState)\n",
    "\n",
    "graph.add_node(\"calc_total_node\", calc_total)\n",
    "graph.add_node(\"convert_to_inr_node\", convert_to_inr)\n",
    "graph.add_node(\"convert_to_eur_node\", convert_to_eur)\n",
    "\n",
    "\n",
    "graph.add_edge(START, \"calc_total_node\")\n",
    "graph.add_conditional_edges(\n",
    "    \"calc_total_node\",\n",
    "    choose_conversion,\n",
    "    {                                   ## here we provide the conditional edges based on the target currency\n",
    "        \"inr\": \"convert_to_inr_node\",   ## this is the mapping stage of converting currencies into inr or eur\n",
    "        \"eur\": \"convert_to_eur_node\"\n",
    "    }\n",
    ")\n",
    "graph.add_edge([\"convert_to_inr_node\", \"convert_to_eur_node\"], END)\n",
    "\n",
    "final = graph.compile()"
   ]
  },
  {
   "cell_type": "code",
   "execution_count": 6,
   "id": "1baef156",
   "metadata": {},
   "outputs": [
    {
     "data": {
      "image/png": "[encoded data removed]",
      "text/plain": [
       "<langgraph.graph.state.CompiledStateGraph object at 0x000002742475A4B0>"
      ]
     },
     "execution_count": 6,
     "metadata": {},
     "output_type": "execute_result"
    }
   ],
   "source": [
    "final"
   ]
  },
  {
   "cell_type": "code",
   "execution_count": 9,
   "id": "bdd5e0f4",
   "metadata": {},
   "outputs": [
    {
     "data": {
      "text/plain": [
       "{'amount_usd': 1000.0,\n",
       " 'total_usd': 1100.0,\n",
       " 'target_currency': 'eur',\n",
       " 'total': 990.0}"
      ]
     },
     "execution_count": 9,
     "metadata": {},
     "output_type": "execute_result"
    }
   ],
   "source": [
    "final.invoke({\n",
    "    \"amount_usd\": 1000.0,\n",
    "    \"target_currency\": \"eur\"})"
   ]
  },
  {
   "cell_type": "code",
   "execution_count": null,
   "id": "214b362a",
   "metadata": {},
   "outputs": [],
   "source": []
  }
 ],
 "metadata": {
  "kernelspec": {
   "display_name": "base",
   "language": "python",
   "name": "python3"
  },
  "language_info": {
   "codemirror_mode": {
    "name": "ipython",
    "version": 3
   },
   "file_extension": ".py",
   "mimetype": "text/x-python",
   "name": "python",
   "nbconvert_exporter": "python",
   "pygments_lexer": "ipython3",
   "version": "3.12.4"
  }
 },
 "nbformat": 4,
 "nbformat_minor": 5
}
